{
 "cells": [
  {
   "cell_type": "code",
   "execution_count": 41,
   "id": "fcaa77ca",
   "metadata": {},
   "outputs": [],
   "source": [
    "import random\n",
    "import csv\n",
    "from Bio import SeqIO\n",
    "import os\n",
    "from ete3 import Tree\n",
    "import statistics\n",
    "import pandas as pd\n",
    "from scipy.stats import iqr"
   ]
  },
  {
   "cell_type": "code",
   "execution_count": 39,
   "id": "0194f67b",
   "metadata": {},
   "outputs": [],
   "source": [
    "def branch_lengths(newick):\n",
    "    t = Tree(newick, format=1)\n",
    "    #total_tree_length = 0\n",
    "    branch_lengths = []\n",
    "    for node in t.traverse():\n",
    "        if node.is_leaf():\n",
    "            if str(node.dist) != \"\":\n",
    "                branch_lengths.append(float(node.dist))\n",
    "        else:\n",
    "            #try:\n",
    "            #    branch_lengths.append(float(node.name))\n",
    "            #except:\n",
    "            #    print([node.name])\n",
    "            branch_lengths.append(float(node.dist))\n",
    "        ##end if\n",
    "        #print(node.name, [node.dist])\n",
    "    #end for\n",
    "    return branch_lengths\n",
    "#end method"
   ]
  },
  {
   "cell_type": "code",
   "execution_count": 45,
   "id": "32779381",
   "metadata": {},
   "outputs": [
    {
     "name": "stdout",
     "output_type": "stream",
     "text": [
      "# Processing: ../Data/TP53_refseq_cds_CodonAligned.nwk\n",
      "count    420.000000\n",
      "mean       0.051668\n",
      "std        0.085251\n",
      "min        0.000000\n",
      "25%        0.005586\n",
      "50%        0.017845\n",
      "75%        0.050871\n",
      "max        0.517025\n",
      "dtype: float64\n",
      "# SBL: 21.700530044000004\n",
      "# IQR: 0.045284928\n",
      "\n",
      "# Processing: ../Results/TP53/TP53_refseq_cds_CodonAligned.nwk.169.subsampled.nwk\n",
      "count    336.000000\n",
      "mean       0.062737\n",
      "std        0.091497\n",
      "min        0.000000\n",
      "25%        0.009630\n",
      "50%        0.027341\n",
      "75%        0.063052\n",
      "max        0.517025\n",
      "dtype: float64\n",
      "# SBL: 21.079471496000004\n",
      "# IQR: 0.0534219775\n",
      "\n",
      "# Processing: ../Results/TP53/TP53_refseq_cds_CodonAligned.nwk.127.subsampled.nwk\n",
      "count    253.000000\n",
      "mean       0.077979\n",
      "std        0.098931\n",
      "min        0.000000\n",
      "25%        0.017242\n",
      "50%        0.040500\n",
      "75%        0.096155\n",
      "max        0.517025\n",
      "dtype: float64\n",
      "# SBL: 19.728790009999997\n",
      "# IQR: 0.0789131\n",
      "\n",
      "# Processing: ../Results/TP53/TP53_refseq_cds_CodonAligned.nwk.84.subsampled.nwk\n",
      "count    167.000000\n",
      "mean       0.104605\n",
      "std        0.112155\n",
      "min        0.000000\n",
      "25%        0.022519\n",
      "50%        0.058925\n",
      "75%        0.146373\n",
      "max        0.517025\n",
      "dtype: float64\n",
      "# SBL: 17.469012170000006\n",
      "# IQR: 0.12385494999999999\n",
      "\n",
      "# Processing: ../Results/TP53/TP53_refseq_cds_CodonAligned.nwk.42.subsampled.nwk\n",
      "count    83.000000\n",
      "mean      0.160210\n",
      "std       0.130516\n",
      "min       0.000000\n",
      "25%       0.049737\n",
      "50%       0.132968\n",
      "75%       0.240154\n",
      "max       0.517025\n",
      "dtype: float64\n",
      "# SBL: 13.297443199999996\n",
      "# IQR: 0.19041645000000001\n",
      "\n"
     ]
    }
   ],
   "source": [
    "tree_list = [\"../Data/TP53_refseq_cds_CodonAligned.nwk\",\n",
    "            \"../Results/TP53/TP53_refseq_cds_CodonAligned.nwk.169.subsampled.nwk\",\n",
    "             \"../Results/TP53/TP53_refseq_cds_CodonAligned.nwk.127.subsampled.nwk\",\n",
    "             \"../Results/TP53/TP53_refseq_cds_CodonAligned.nwk.84.subsampled.nwk\",\n",
    "             \"../Results/TP53/TP53_refseq_cds_CodonAligned.nwk.42.subsampled.nwk\"\n",
    "            ]\n",
    "tree = \"\"\n",
    "\n",
    "\n",
    "for tree in tree_list:\n",
    "    print(\"# Processing:\", tree)\n",
    "    bl = branch_lengths(tree)\n",
    "    #print(sum(a))\n",
    "    s = pd.Series(bl)\n",
    "    print(s.describe())\n",
    "    print(\"# SBL:\", sum(bl))\n",
    "    print(\"# IQR:\", iqr(bl))\n",
    "    print()\n",
    "    \n",
    "    "
   ]
  },
  {
   "cell_type": "code",
   "execution_count": 31,
   "id": "86c47f86",
   "metadata": {
    "scrolled": false
   },
   "outputs": [
    {
     "data": {
      "text/plain": [
       "count    420.000000\n",
       "mean       0.051668\n",
       "std        0.085251\n",
       "min        0.000000\n",
       "25%        0.005586\n",
       "50%        0.017845\n",
       "75%        0.050871\n",
       "max        0.517025\n",
       "dtype: float64"
      ]
     },
     "execution_count": 31,
     "metadata": {},
     "output_type": "execute_result"
    }
   ],
   "source": [
    "import statistics\n",
    "import pandas as pd\n",
    "\n",
    "s = pd.Series(bl)\n",
    "s.describe()"
   ]
  },
  {
   "cell_type": "code",
   "execution_count": 24,
   "id": "9a1e1960",
   "metadata": {},
   "outputs": [
    {
     "data": {
      "text/plain": [
       "21.700530044000004"
      ]
     },
     "execution_count": 24,
     "metadata": {},
     "output_type": "execute_result"
    }
   ],
   "source": [
    "sum(a)"
   ]
  },
  {
   "cell_type": "code",
   "execution_count": 32,
   "id": "b7712e80",
   "metadata": {},
   "outputs": [
    {
     "data": {
      "text/plain": [
       "0.045284928"
      ]
     },
     "execution_count": 32,
     "metadata": {},
     "output_type": "execute_result"
    }
   ],
   "source": [
    "from scipy.stats import iqr\n",
    "iqr(bl)"
   ]
  },
  {
   "cell_type": "code",
   "execution_count": 38,
   "id": "21a1300f",
   "metadata": {},
   "outputs": [
    {
     "name": "stdout",
     "output_type": "stream",
     "text": [
      "169.0\n",
      "127.0\n",
      "84.0\n",
      "42.0\n"
     ]
    }
   ],
   "source": [
    "N = 211\n",
    "print(round(N*0.8,0))\n",
    "print(round(N*0.6,0))\n",
    "print(round(N*0.4,0))\n",
    "print(round(N*0.2,0))\n"
   ]
  },
  {
   "cell_type": "code",
   "execution_count": null,
   "id": "1eca1c62",
   "metadata": {},
   "outputs": [],
   "source": []
  }
 ],
 "metadata": {
  "kernelspec": {
   "display_name": "Python 3 (ipykernel)",
   "language": "python",
   "name": "python3"
  },
  "language_info": {
   "codemirror_mode": {
    "name": "ipython",
    "version": 3
   },
   "file_extension": ".py",
   "mimetype": "text/x-python",
   "name": "python",
   "nbconvert_exporter": "python",
   "pygments_lexer": "ipython3",
   "version": "3.7.7"
  }
 },
 "nbformat": 4,
 "nbformat_minor": 5
}
